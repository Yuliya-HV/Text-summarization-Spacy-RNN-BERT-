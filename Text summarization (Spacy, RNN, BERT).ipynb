{
 "cells": [
  {
   "cell_type": "markdown",
   "metadata": {},
   "source": [
    "# Text summarization (Spacy, RNN, BERT)"
   ]
  },
  {
   "cell_type": "markdown",
   "metadata": {},
   "source": [
    "## 1. Simple method - using Spacy"
   ]
  },
  {
   "cell_type": "code",
   "execution_count": 83,
   "metadata": {},
   "outputs": [],
   "source": [
    "import spacy\n",
    "from spacy.lang.en.stop_words import STOP_WORDS\n",
    "import string\n",
    "\n",
    "stopwords = list(STOP_WORDS)"
   ]
  },
  {
   "cell_type": "code",
   "execution_count": 55,
   "metadata": {},
   "outputs": [],
   "source": [
    "abstract = 'Prosecutors investigating theft of $750,000 from William Floyd School District in Suffolk County, NY, explore relationships between school officials and local Republican organization in town of Brookhaven. received tip from Fred Towle, former county legislator convicted of bribery in 2003. James Wright, retired district treasurer, has been charged with stealing $750,000 from payroll account. residents familiar with local politics say that school board members have been influential in Republican politics for years (M)'\n",
    "lead_paragraph = ' Suffolk County prosecutors investigating how more than $750,000 was taken from the William Floyd School District have begun to explore relationships between school officials and local Republican organizations, a spokesman for the district attorney said Wednesday. ''It\\'s a school district that does have some political coloring,'' said Bob Clifford, a spokesman for Thomas Spota, a Democrat and the Suffolk district attorney. \\'\\'They\\'re definitely looking at it.'''"
   ]
  },
  {
   "cell_type": "code",
   "execution_count": 56,
   "metadata": {},
   "outputs": [],
   "source": [
    "nlp = spacy.load('en')"
   ]
  },
  {
   "cell_type": "code",
   "execution_count": 57,
   "metadata": {},
   "outputs": [],
   "source": [
    "#transform texts into nlp spacy format\n",
    "doc_a = nlp(abstract + ' ' + lead_paragraph)"
   ]
  },
  {
   "cell_type": "code",
   "execution_count": 58,
   "metadata": {},
   "outputs": [],
   "source": [
    "#tokenize the document\n",
    "doc_a_tokenized = [token.text.lower() for token in doc_a if not (token.text in stopwords or token.text in string.punctuation)]"
   ]
  },
  {
   "cell_type": "code",
   "execution_count": 59,
   "metadata": {},
   "outputs": [],
   "source": [
    "#build word frequency table as a vocabulary\n",
    "\n",
    "vocab = {}\n",
    "for word in doc_a_tokenized:\n",
    "    if word not in stopwords:\n",
    "        if word not in vocab.keys():\n",
    "            vocab[word] = 1\n",
    "        else:\n",
    "            vocab[word] +=1"
   ]
  },
  {
   "cell_type": "code",
   "execution_count": 60,
   "metadata": {},
   "outputs": [
    {
     "name": "stdout",
     "output_type": "stream",
     "text": [
      "{'prosecutors': 2, 'investigating': 2, 'theft': 1, '750,000': 3, 'william': 2, 'floyd': 2, 'school': 6, 'district': 6, 'suffolk': 3, 'county': 3, 'ny': 1, 'explore': 2, 'relationships': 2, 'officials': 2, 'local': 3, 'republican': 3, 'organization': 1, 'town': 1, 'brookhaven': 1, 'received': 1, 'tip': 1, 'fred': 1, 'towle': 1, 'legislator': 1, 'convicted': 1, 'bribery': 1, '2003': 1, 'james': 1, 'wright': 1, 'retired': 1, 'treasurer': 1, 'charged': 1, 'stealing': 1, 'payroll': 1, 'account': 1, 'residents': 1, 'familiar': 1, 'politics': 2, 'board': 1, 'members': 1, 'influential': 1, 'years': 1, 'm': 1, ' ': 1, 'taken': 1, 'begun': 1, 'organizations': 1, 'spokesman': 2, 'attorney': 2, 'said': 2, 'wednesday': 1, 'political': 1, 'coloring': 1, 'bob': 1, 'clifford': 1, 'thomas': 1, 'spota': 1, 'democrat': 1, 'definitely': 1, 'looking': 1}\n"
     ]
    }
   ],
   "source": [
    "print(vocab)"
   ]
  },
  {
   "cell_type": "code",
   "execution_count": 61,
   "metadata": {},
   "outputs": [
    {
     "data": {
      "text/plain": [
       "6"
      ]
     },
     "execution_count": 61,
     "metadata": {},
     "output_type": "execute_result"
    }
   ],
   "source": [
    "max_freq = max(vocab.values())\n",
    "max_freq"
   ]
  },
  {
   "cell_type": "code",
   "execution_count": 62,
   "metadata": {},
   "outputs": [],
   "source": [
    "for word in vocab.keys():\n",
    "    vocab[word] = vocab[word]/max_freq"
   ]
  },
  {
   "cell_type": "code",
   "execution_count": 63,
   "metadata": {},
   "outputs": [
    {
     "name": "stdout",
     "output_type": "stream",
     "text": [
      "{'prosecutors': 0.3333333333333333, 'investigating': 0.3333333333333333, 'theft': 0.16666666666666666, '750,000': 0.5, 'william': 0.3333333333333333, 'floyd': 0.3333333333333333, 'school': 1.0, 'district': 1.0, 'suffolk': 0.5, 'county': 0.5, 'ny': 0.16666666666666666, 'explore': 0.3333333333333333, 'relationships': 0.3333333333333333, 'officials': 0.3333333333333333, 'local': 0.5, 'republican': 0.5, 'organization': 0.16666666666666666, 'town': 0.16666666666666666, 'brookhaven': 0.16666666666666666, 'received': 0.16666666666666666, 'tip': 0.16666666666666666, 'fred': 0.16666666666666666, 'towle': 0.16666666666666666, 'legislator': 0.16666666666666666, 'convicted': 0.16666666666666666, 'bribery': 0.16666666666666666, '2003': 0.16666666666666666, 'james': 0.16666666666666666, 'wright': 0.16666666666666666, 'retired': 0.16666666666666666, 'treasurer': 0.16666666666666666, 'charged': 0.16666666666666666, 'stealing': 0.16666666666666666, 'payroll': 0.16666666666666666, 'account': 0.16666666666666666, 'residents': 0.16666666666666666, 'familiar': 0.16666666666666666, 'politics': 0.3333333333333333, 'board': 0.16666666666666666, 'members': 0.16666666666666666, 'influential': 0.16666666666666666, 'years': 0.16666666666666666, 'm': 0.16666666666666666, ' ': 0.16666666666666666, 'taken': 0.16666666666666666, 'begun': 0.16666666666666666, 'organizations': 0.16666666666666666, 'spokesman': 0.3333333333333333, 'attorney': 0.3333333333333333, 'said': 0.3333333333333333, 'wednesday': 0.16666666666666666, 'political': 0.16666666666666666, 'coloring': 0.16666666666666666, 'bob': 0.16666666666666666, 'clifford': 0.16666666666666666, 'thomas': 0.16666666666666666, 'spota': 0.16666666666666666, 'democrat': 0.16666666666666666, 'definitely': 0.16666666666666666, 'looking': 0.16666666666666666}\n"
     ]
    }
   ],
   "source": [
    "print(vocab)"
   ]
  },
  {
   "cell_type": "markdown",
   "metadata": {},
   "source": [
    "Work with sentences:"
   ]
  },
  {
   "cell_type": "code",
   "execution_count": 64,
   "metadata": {},
   "outputs": [],
   "source": [
    "sents = [sent for sent in doc_a.sents]"
   ]
  },
  {
   "cell_type": "code",
   "execution_count": 71,
   "metadata": {},
   "outputs": [],
   "source": [
    "#scoring sentences using word frequency above\n",
    "sent_score = {}\n",
    "for sent in sents:\n",
    "    for word in sent:\n",
    "        if word.text.lower() in vocab.keys():\n",
    "            if sent not in sent_score.keys():\n",
    "                sent_score[sent] = 1\n",
    "            else:\n",
    "                sent_score[sent] += 1 "
   ]
  },
  {
   "cell_type": "code",
   "execution_count": 74,
   "metadata": {},
   "outputs": [],
   "source": [
    "max_sent_score = max(sent_score.values())\n",
    "for sent in sent_score.keys():\n",
    "    sent_score[sent] = sent_score[sent]/max_sent_score"
   ]
  },
  {
   "cell_type": "code",
   "execution_count": 82,
   "metadata": {},
   "outputs": [
    {
     "name": "stdout",
     "output_type": "stream",
     "text": [
      "Suffolk County prosecutors investigating how more than $750,000 was taken from the William Floyd School District have begun to explore relationships between school officials and local Republican organizations, a spokesman for the district attorney said Wednesday.\n"
     ]
    }
   ],
   "source": [
    "for sent in sent_score.keys():\n",
    "    if sent_score[sent] == sorted(sent_score.values(), reverse = True)[0]:\n",
    "        print(sent)"
   ]
  },
  {
   "cell_type": "code",
   "execution_count": null,
   "metadata": {},
   "outputs": [],
   "source": []
  }
 ],
 "metadata": {
  "kernelspec": {
   "display_name": "Python 3",
   "language": "python",
   "name": "python3"
  },
  "language_info": {
   "codemirror_mode": {
    "name": "ipython",
    "version": 3
   },
   "file_extension": ".py",
   "mimetype": "text/x-python",
   "name": "python",
   "nbconvert_exporter": "python",
   "pygments_lexer": "ipython3",
   "version": "3.7.1"
  }
 },
 "nbformat": 4,
 "nbformat_minor": 2
}
